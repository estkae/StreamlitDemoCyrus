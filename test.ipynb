{
 "cells": [
  {
   "cell_type": "code",
   "execution_count": 11,
   "metadata": {
    "collapsed": true
   },
   "outputs": [],
   "source": [
    "import yfinance as yf\n",
    "import pandas as pd\n",
    "import matplotlib.pyplot as plt\n",
    "\n",
    "google = yf.Ticker(\"GOOG\")"
   ]
  },
  {
   "cell_type": "code",
   "execution_count": 3,
   "outputs": [
    {
     "data": {
      "text/plain": "{'zip': '94043',\n 'sector': 'Communication Services',\n 'fullTimeEmployees': 139995,\n 'longBusinessSummary': 'Alphabet Inc. provides online advertising services in the United States, Europe, the Middle East, Africa, the Asia-Pacific, Canada, and Latin America. The company offers performance and brand advertising services. It operates through Google Services, Google Cloud, and Other Bets segments. The Google Services segment provides products and services, such as ads, Android, Chrome, hardware, Google Maps, Google Play, Search, and YouTube, as well as technical infrastructure; and digital content. The Google Cloud segment offers infrastructure and data analytics platforms, collaboration tools, and other services for enterprise customers. The Other Bets segment sells internet and TV services, as well as licensing and research and development services. The company was founded in 1998 and is headquartered in Mountain View, California.',\n 'city': 'Mountain View',\n 'phone': '650-253-0000',\n 'state': 'CA',\n 'country': 'United States',\n 'companyOfficers': [],\n 'website': 'http://www.abc.xyz',\n 'maxAge': 1,\n 'address1': '1600 Amphitheatre Parkway',\n 'industry': 'Internet Content & Information',\n 'previousClose': 2409.07,\n 'regularMarketOpen': 2412.83,\n 'twoHundredDayAverage': 2017.1478,\n 'trailingAnnualDividendYield': None,\n 'payoutRatio': 0,\n 'volume24Hr': None,\n 'regularMarketDayHigh': 2431.69,\n 'navPrice': None,\n 'averageDailyVolume10Day': 1022685,\n 'totalAssets': None,\n 'regularMarketPreviousClose': 2409.07,\n 'fiftyDayAverage': 2320.2139,\n 'trailingAnnualDividendRate': None,\n 'open': 2412.83,\n 'toCurrency': None,\n 'averageVolume10days': 1022685,\n 'expireDate': None,\n 'yield': None,\n 'algorithm': None,\n 'dividendRate': None,\n 'exDividendDate': None,\n 'beta': 1.016577,\n 'circulatingSupply': None,\n 'startDate': None,\n 'regularMarketDayLow': 2412.52,\n 'priceHint': 2,\n 'currency': 'USD',\n 'trailingPE': 32.34724,\n 'regularMarketVolume': 248357,\n 'lastMarket': None,\n 'maxSupply': None,\n 'openInterest': None,\n 'marketCap': 1610579312640,\n 'volumeAllCurrencies': None,\n 'strikePrice': None,\n 'averageVolume': 1432372,\n 'priceToSalesTrailing12Months': 8.188747,\n 'dayLow': 2412.52,\n 'ask': 2430.23,\n 'ytdReturn': None,\n 'askSize': 900,\n 'volume': 248357,\n 'fiftyTwoWeekHigh': 2452.378,\n 'forwardPE': 25.648108,\n 'fromCurrency': None,\n 'fiveYearAvgDividendYield': None,\n 'fiftyTwoWeekLow': 1347.01,\n 'bid': 2430.04,\n 'tradeable': False,\n 'dividendYield': None,\n 'bidSize': 800,\n 'dayHigh': 2431.69,\n 'exchange': 'NMS',\n 'shortName': 'Alphabet Inc.',\n 'longName': 'Alphabet Inc.',\n 'exchangeTimezoneName': 'America/New_York',\n 'exchangeTimezoneShortName': 'EDT',\n 'isEsgPopulated': False,\n 'gmtOffSetMilliseconds': '-14400000',\n 'quoteType': 'EQUITY',\n 'symbol': 'GOOG',\n 'messageBoardId': 'finmb_29096',\n 'market': 'us_market',\n 'annualHoldingsTurnover': None,\n 'enterpriseToRevenue': 7.665,\n 'beta3Year': None,\n 'profitMargins': 0.26115,\n 'enterpriseToEbitda': 23.93,\n '52WeekChange': 0.6991128,\n 'morningStarRiskRating': None,\n 'forwardEps': 94.64,\n 'revenueQuarterlyGrowth': None,\n 'sharesOutstanding': 323580000,\n 'fundInceptionDate': None,\n 'annualReportExpenseRatio': None,\n 'bookValue': 342.743,\n 'sharesShort': 2479034,\n 'sharesPercentSharesOut': 0.0037,\n 'fundFamily': None,\n 'lastFiscalYearEnd': 1609372800,\n 'heldPercentInstitutions': 0.68116,\n 'netIncomeToCommon': 51363000320,\n 'trailingEps': 75.04,\n 'lastDividendValue': None,\n 'SandP52WeekChange': 0.3794304,\n 'priceToBook': 7.0820904,\n 'heldPercentInsiders': 0.05965,\n 'nextFiscalYearEnd': 1672444800,\n 'mostRecentQuarter': 1617148800,\n 'shortRatio': 1.72,\n 'sharesShortPreviousMonthDate': 1618444800,\n 'floatShares': 583411090,\n 'enterpriseValue': 1507614523392,\n 'threeYearAverageReturn': None,\n 'lastSplitDate': 1430092800,\n 'lastSplitFactor': '10000000:10000000',\n 'legalType': None,\n 'lastDividendDate': None,\n 'morningStarOverallRating': None,\n 'earningsQuarterlyGrowth': 1.623,\n 'dateShortInterest': 1620950400,\n 'pegRatio': 1.27,\n 'lastCapGain': None,\n 'shortPercentOfFloat': None,\n 'sharesShortPriorMonth': 2804170,\n 'impliedSharesOutstanding': 670163968,\n 'category': None,\n 'fiveYearAverageReturn': None,\n 'regularMarketPrice': 2427.337,\n 'logo_url': 'https://logo.clearbit.com/abc.xyz'}"
     },
     "execution_count": 3,
     "metadata": {},
     "output_type": "execute_result"
    }
   ],
   "source": [
    "google.info"
   ],
   "metadata": {
    "collapsed": false,
    "pycharm": {
     "name": "#%%\n"
    }
   }
  },
  {
   "cell_type": "code",
   "execution_count": 4,
   "outputs": [
    {
     "name": "stdout",
     "output_type": "stream",
     "text": [
      "                                  Open         High          Low        Close  \\\n",
      "Datetime                                                                        \n",
      "2021-05-26 09:30:00-04:00  2412.834961  2418.199951  2412.834961  2416.870117   \n",
      "2021-05-26 09:31:00-04:00  2417.860107  2420.199951  2416.429932  2417.929932   \n",
      "2021-05-26 09:32:00-04:00  2417.540527  2418.000000  2417.419922  2418.000000   \n",
      "2021-05-26 09:33:00-04:00  2417.070068  2417.070068  2413.709717  2413.975098   \n",
      "2021-05-26 09:34:00-04:00  2413.459961  2415.100098  2412.514893  2415.020020   \n",
      "\n",
      "                           Volume  Dividends  Stock Splits  \n",
      "Datetime                                                    \n",
      "2021-05-26 09:30:00-04:00   27448          0             0  \n",
      "2021-05-26 09:31:00-04:00    7896          0             0  \n",
      "2021-05-26 09:32:00-04:00    1911          0             0  \n",
      "2021-05-26 09:33:00-04:00    2548          0             0  \n",
      "2021-05-26 09:34:00-04:00   12142          0             0  \n"
     ]
    }
   ],
   "source": [
    "df = google.history(period='1d', interval=\"1m\")\n",
    "print(df.head())"
   ],
   "metadata": {
    "collapsed": false,
    "pycharm": {
     "name": "#%%\n"
    }
   }
  },
  {
   "cell_type": "code",
   "execution_count": 5,
   "outputs": [
    {
     "data": {
      "text/plain": "                                   Low\nDatetime                              \n2021-05-26 09:30:00-04:00  2412.834961\n2021-05-26 09:31:00-04:00  2416.429932\n2021-05-26 09:32:00-04:00  2417.419922\n2021-05-26 09:33:00-04:00  2413.709717\n2021-05-26 09:34:00-04:00  2412.514893",
      "text/html": "<div>\n<style scoped>\n    .dataframe tbody tr th:only-of-type {\n        vertical-align: middle;\n    }\n\n    .dataframe tbody tr th {\n        vertical-align: top;\n    }\n\n    .dataframe thead th {\n        text-align: right;\n    }\n</style>\n<table border=\"1\" class=\"dataframe\">\n  <thead>\n    <tr style=\"text-align: right;\">\n      <th></th>\n      <th>Low</th>\n    </tr>\n    <tr>\n      <th>Datetime</th>\n      <th></th>\n    </tr>\n  </thead>\n  <tbody>\n    <tr>\n      <th>2021-05-26 09:30:00-04:00</th>\n      <td>2412.834961</td>\n    </tr>\n    <tr>\n      <th>2021-05-26 09:31:00-04:00</th>\n      <td>2416.429932</td>\n    </tr>\n    <tr>\n      <th>2021-05-26 09:32:00-04:00</th>\n      <td>2417.419922</td>\n    </tr>\n    <tr>\n      <th>2021-05-26 09:33:00-04:00</th>\n      <td>2413.709717</td>\n    </tr>\n    <tr>\n      <th>2021-05-26 09:34:00-04:00</th>\n      <td>2412.514893</td>\n    </tr>\n  </tbody>\n</table>\n</div>"
     },
     "execution_count": 5,
     "metadata": {},
     "output_type": "execute_result"
    }
   ],
   "source": [
    "df = google.history(period='1d', interval=\"1m\")\n",
    "df = df[['Low']]\n",
    "df.head()"
   ],
   "metadata": {
    "collapsed": false,
    "pycharm": {
     "name": "#%%\n"
    }
   }
  },
  {
   "cell_type": "code",
   "execution_count": 9,
   "outputs": [
    {
     "data": {
      "text/plain": "                  Low\ndate                 \n09:30:00  2412.834961\n09:31:00  2416.429932\n09:32:00  2417.419922\n09:33:00  2413.709717\n09:34:00  2412.514893",
      "text/html": "<div>\n<style scoped>\n    .dataframe tbody tr th:only-of-type {\n        vertical-align: middle;\n    }\n\n    .dataframe tbody tr th {\n        vertical-align: top;\n    }\n\n    .dataframe thead th {\n        text-align: right;\n    }\n</style>\n<table border=\"1\" class=\"dataframe\">\n  <thead>\n    <tr style=\"text-align: right;\">\n      <th></th>\n      <th>Low</th>\n    </tr>\n    <tr>\n      <th>date</th>\n      <th></th>\n    </tr>\n  </thead>\n  <tbody>\n    <tr>\n      <th>09:30:00</th>\n      <td>2412.834961</td>\n    </tr>\n    <tr>\n      <th>09:31:00</th>\n      <td>2416.429932</td>\n    </tr>\n    <tr>\n      <th>09:32:00</th>\n      <td>2417.419922</td>\n    </tr>\n    <tr>\n      <th>09:33:00</th>\n      <td>2413.709717</td>\n    </tr>\n    <tr>\n      <th>09:34:00</th>\n      <td>2412.514893</td>\n    </tr>\n  </tbody>\n</table>\n</div>"
     },
     "execution_count": 9,
     "metadata": {},
     "output_type": "execute_result"
    }
   ],
   "source": [
    "df['date'] = pd.to_datetime(df.index).time\n",
    "df.set_index('date', inplace=True)\n",
    "df.head()"
   ],
   "metadata": {
    "collapsed": false,
    "pycharm": {
     "name": "#%%\n"
    }
   }
  },
  {
   "cell_type": "code",
   "execution_count": 10,
   "outputs": [],
   "source": [
    "X = df.index.values\n",
    "y = df['Low'].values\n",
    "# The split point is the 10% of the dataframe length\n",
    "offset = int(0.10*len(df))\n",
    "X_train = X[:-offset]\n",
    "y_train = y[:-offset]\n",
    "X_test  = X[-offset:]\n",
    "y_test  = y[-offset:]"
   ],
   "metadata": {
    "collapsed": false,
    "pycharm": {
     "name": "#%%\n"
    }
   }
  },
  {
   "cell_type": "code",
   "execution_count": 12,
   "outputs": [
    {
     "data": {
      "text/plain": "<Figure size 432x288 with 1 Axes>",
      "image/png": "[encoded data removed]"
     },
     "metadata": {
      "needs_background": "light"
     },
     "output_type": "display_data"
    }
   ],
   "source": [
    "plt.plot(range(0,len(y_train)),y_train, label='Train')\n",
    "plt.plot(range(len(y_train),len(y)),y_test,label='Test')\n",
    "plt.legend()\n",
    "plt.show()"
   ],
   "metadata": {
    "collapsed": false,
    "pycharm": {
     "name": "#%%\n"
    }
   }
  },
  {
   "cell_type": "code",
   "execution_count": 13,
   "outputs": [],
   "source": [
    "from statsmodels.tsa.arima.model import ARIMA\n",
    "model = ARIMA(y_train, order=(5,0,1)).fit()\n",
    "forecast = model.forecast(steps=1)[0]"
   ],
   "metadata": {
    "collapsed": false,
    "pycharm": {
     "name": "#%%\n"
    }
   }
  },
  {
   "cell_type": "code",
   "execution_count": 16,
   "outputs": [
    {
     "name": "stdout",
     "output_type": "stream",
     "text": [
      "Real data for time 0: 2427.27001953125\n",
      "Real data for time 1: 2429.35009765625\n",
      "Pred data for time 1: 2427.0723180445793\n"
     ]
    }
   ],
   "source": [
    "print(f'Real data for time 0: {y_train[len(y_train)-1]}')\n",
    "print(f'Real data for time 1: {y_test[0]}')\n",
    "print(f'Pred data for time 1: {forecast}')\n",
    "\n"
   ],
   "metadata": {
    "collapsed": false,
    "pycharm": {
     "name": "#%%\n"
    }
   }
  }
 ],
 "metadata": {
  "kernelspec": {
   "display_name": "Python 3",
   "language": "python",
   "name": "python3"
  },
  "language_info": {
   "codemirror_mode": {
    "name": "ipython",
    "version": 2
   },
   "file_extension": ".py",
   "mimetype": "text/x-python",
   "name": "python",
   "nbconvert_exporter": "python",
   "pygments_lexer": "ipython2",
   "version": "2.7.6"
  }
 },
 "nbformat": 4,
 "nbformat_minor": 0
}